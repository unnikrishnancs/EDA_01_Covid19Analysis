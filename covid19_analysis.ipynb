{
 "cells": [
  {
   "cell_type": "markdown",
   "metadata": {
    "id": "hu9_iENqiE_1"
   },
   "source": [
    "# Install Packages"
   ]
  },
  {
   "cell_type": "code",
   "execution_count": 96,
   "metadata": {
    "colab": {
     "base_uri": "https://localhost:8080/"
    },
    "executionInfo": {
     "elapsed": 3284,
     "status": "ok",
     "timestamp": 1632032837933,
     "user": {
      "displayName": "Unnikrishnan C S",
      "photoUrl": "https://lh3.googleusercontent.com/a/default-user=s64",
      "userId": "18301413610349739582"
     },
     "user_tz": -330
    },
    "id": "vD5onMLFiNJQ",
    "outputId": "50784366-275d-4435-96f4-14b2e4969862"
   },
   "outputs": [
    {
     "name": "stdout",
     "output_type": "stream",
     "text": [
      "Requirement already satisfied: fbprophet in /usr/local/lib/python3.7/dist-packages (0.7.1)\n",
      "Requirement already satisfied: Cython>=0.22 in /usr/local/lib/python3.7/dist-packages (from fbprophet) (0.29.24)\n",
      "Requirement already satisfied: cmdstanpy==0.9.5 in /usr/local/lib/python3.7/dist-packages (from fbprophet) (0.9.5)\n",
      "Requirement already satisfied: pystan>=2.14 in /usr/local/lib/python3.7/dist-packages (from fbprophet) (2.19.1.1)\n",
      "Requirement already satisfied: numpy>=1.15.4 in /usr/local/lib/python3.7/dist-packages (from fbprophet) (1.19.5)\n",
      "Requirement already satisfied: pandas>=1.0.4 in /usr/local/lib/python3.7/dist-packages (from fbprophet) (1.1.5)\n",
      "Requirement already satisfied: matplotlib>=2.0.0 in /usr/local/lib/python3.7/dist-packages (from fbprophet) (3.2.2)\n",
      "Requirement already satisfied: LunarCalendar>=0.0.9 in /usr/local/lib/python3.7/dist-packages (from fbprophet) (0.0.9)\n",
      "Requirement already satisfied: convertdate>=2.1.2 in /usr/local/lib/python3.7/dist-packages (from fbprophet) (2.3.2)\n",
      "Requirement already satisfied: holidays>=0.10.2 in /usr/local/lib/python3.7/dist-packages (from fbprophet) (0.10.5.2)\n",
      "Requirement already satisfied: setuptools-git>=1.2 in /usr/local/lib/python3.7/dist-packages (from fbprophet) (1.2)\n",
      "Requirement already satisfied: python-dateutil>=2.8.0 in /usr/local/lib/python3.7/dist-packages (from fbprophet) (2.8.2)\n",
      "Requirement already satisfied: tqdm>=4.36.1 in /usr/local/lib/python3.7/dist-packages (from fbprophet) (4.62.2)\n",
      "Requirement already satisfied: pymeeus<=1,>=0.3.13 in /usr/local/lib/python3.7/dist-packages (from convertdate>=2.1.2->fbprophet) (0.5.11)\n",
      "Requirement already satisfied: pytz>=2014.10 in /usr/local/lib/python3.7/dist-packages (from convertdate>=2.1.2->fbprophet) (2018.9)\n",
      "Requirement already satisfied: korean-lunar-calendar in /usr/local/lib/python3.7/dist-packages (from holidays>=0.10.2->fbprophet) (0.2.1)\n",
      "Requirement already satisfied: six in /usr/local/lib/python3.7/dist-packages (from holidays>=0.10.2->fbprophet) (1.15.0)\n",
      "Requirement already satisfied: hijri-converter in /usr/local/lib/python3.7/dist-packages (from holidays>=0.10.2->fbprophet) (2.2.1)\n",
      "Requirement already satisfied: ephem>=3.7.5.3 in /usr/local/lib/python3.7/dist-packages (from LunarCalendar>=0.0.9->fbprophet) (4.0.0.2)\n",
      "Requirement already satisfied: cycler>=0.10 in /usr/local/lib/python3.7/dist-packages (from matplotlib>=2.0.0->fbprophet) (0.10.0)\n",
      "Requirement already satisfied: pyparsing!=2.0.4,!=2.1.2,!=2.1.6,>=2.0.1 in /usr/local/lib/python3.7/dist-packages (from matplotlib>=2.0.0->fbprophet) (2.4.7)\n",
      "Requirement already satisfied: kiwisolver>=1.0.1 in /usr/local/lib/python3.7/dist-packages (from matplotlib>=2.0.0->fbprophet) (1.3.2)\n"
     ]
    }
   ],
   "source": [
    "# install fbprophet\n",
    "!pip install fbprophet"
   ]
  },
  {
   "cell_type": "markdown",
   "metadata": {
    "id": "nb2T4yu61Ytz"
   },
   "source": [
    "# import packages"
   ]
  },
  {
   "cell_type": "code",
   "execution_count": 97,
   "metadata": {
    "executionInfo": {
     "elapsed": 515,
     "status": "ok",
     "timestamp": 1632032843158,
     "user": {
      "displayName": "Unnikrishnan C S",
      "photoUrl": "https://lh3.googleusercontent.com/a/default-user=s64",
      "userId": "18301413610349739582"
     },
     "user_tz": -330
    },
    "id": "uQ76E9xp117L"
   },
   "outputs": [],
   "source": [
    "import pandas as pd\n",
    "import matplotlib.pyplot as plt\n",
    "from fbprophet import Prophet\n",
    "from matplotlib import pyplot\n",
    "from pandas import to_datetime\n",
    "from matplotlib import dates as mpl_dates"
   ]
  },
  {
   "cell_type": "markdown",
   "metadata": {
    "id": "pDlulo0c124p"
   },
   "source": [
    "# Google drive setup"
   ]
  },
  {
   "cell_type": "code",
   "execution_count": 98,
   "metadata": {
    "colab": {
     "base_uri": "https://localhost:8080/"
    },
    "executionInfo": {
     "elapsed": 625,
     "status": "ok",
     "timestamp": 1632032852476,
     "user": {
      "displayName": "Unnikrishnan C S",
      "photoUrl": "https://lh3.googleusercontent.com/a/default-user=s64",
      "userId": "18301413610349739582"
     },
     "user_tz": -330
    },
    "id": "LjKVcRKQ2D5m",
    "outputId": "2e5cf3d1-4cca-46cd-9d27-12ade1452f30"
   },
   "outputs": [
    {
     "name": "stdout",
     "output_type": "stream",
     "text": [
      "Drive already mounted at /content/drive/; to attempt to forcibly remount, call drive.mount(\"/content/drive/\", force_remount=True).\n"
     ]
    }
   ],
   "source": [
    "from google.colab import drive\n",
    "drive.mount(\"/content/drive/\")"
   ]
  },
  {
   "cell_type": "markdown",
   "metadata": {
    "id": "aezJpYgI2kkG"
   },
   "source": [
    "# Read data from CSV"
   ]
  },
  {
   "cell_type": "code",
   "execution_count": 99,
   "metadata": {
    "colab": {
     "base_uri": "https://localhost:8080/"
    },
    "executionInfo": {
     "elapsed": 1027,
     "status": "ok",
     "timestamp": 1632032858924,
     "user": {
      "displayName": "Unnikrishnan C S",
      "photoUrl": "https://lh3.googleusercontent.com/a/default-user=s64",
      "userId": "18301413610349739582"
     },
     "user_tz": -330
    },
    "id": "tR72FGh82pYA",
    "outputId": "b75245d7-ecab-4fe3-e3cc-d9ecb2a4f227"
   },
   "outputs": [
    {
     "name": "stdout",
     "output_type": "stream",
     "text": [
      "  iso_code continent  ... human_development_index excess_mortality\n",
      "0      AFG      Asia  ...                   0.511              NaN\n",
      "1      AFG      Asia  ...                   0.511              NaN\n",
      "2      AFG      Asia  ...                   0.511              NaN\n",
      "3      AFG      Asia  ...                   0.511              NaN\n",
      "4      AFG      Asia  ...                   0.511              NaN\n",
      "\n",
      "[5 rows x 62 columns]\n"
     ]
    }
   ],
   "source": [
    "!cd \"/content/drive/My Drive/SHMT/02_ProbationTask/\"\n",
    "data=pd.read_csv(\"owid-covid-data.csv\")\n",
    "pd.set_option('display.max_rows',None)\n",
    "print(data.head())"
   ]
  },
  {
   "cell_type": "markdown",
   "metadata": {
    "id": "E0xDcBsG2ta2"
   },
   "source": [
    "# Filter Data"
   ]
  },
  {
   "cell_type": "code",
   "execution_count": 100,
   "metadata": {
    "executionInfo": {
     "elapsed": 497,
     "status": "ok",
     "timestamp": 1632032864120,
     "user": {
      "displayName": "Unnikrishnan C S",
      "photoUrl": "https://lh3.googleusercontent.com/a/default-user=s64",
      "userId": "18301413610349739582"
     },
     "user_tz": -330
    },
    "id": "llfhUJZq3Dh7"
   },
   "outputs": [],
   "source": [
    "#select necessary columns\n",
    "data_sub=data.loc[:,[\"date\",\"location\",\"total_cases\",\"total_deaths\"]]"
   ]
  },
  {
   "cell_type": "markdown",
   "metadata": {
    "id": "JvO1wBjxegqZ"
   },
   "source": [
    "### Dataframe for ques 4 (forecasting)"
   ]
  },
  {
   "cell_type": "code",
   "execution_count": 101,
   "metadata": {
    "executionInfo": {
     "elapsed": 414,
     "status": "ok",
     "timestamp": 1632032870288,
     "user": {
      "displayName": "Unnikrishnan C S",
      "photoUrl": "https://lh3.googleusercontent.com/a/default-user=s64",
      "userId": "18301413610349739582"
     },
     "user_tz": -330
    },
    "id": "lIo02VO_epEM"
   },
   "outputs": [],
   "source": [
    "# filter for India\n",
    "data_forecast=data.query(\"location=='India' & new_cases!=0\")\n",
    "data_forecast=data_forecast.loc[:,[\"date\",\"new_cases\"]]\n",
    "#print(data_forecast.tail())"
   ]
  },
  {
   "cell_type": "markdown",
   "metadata": {
    "id": "dFdvjeqh3nAx"
   },
   "source": [
    "## Dataframe for ques 5 (monthly trend)"
   ]
  },
  {
   "cell_type": "code",
   "execution_count": 102,
   "metadata": {
    "colab": {
     "base_uri": "https://localhost:8080/"
    },
    "executionInfo": {
     "elapsed": 609,
     "status": "ok",
     "timestamp": 1632032875926,
     "user": {
      "displayName": "Unnikrishnan C S",
      "photoUrl": "https://lh3.googleusercontent.com/a/default-user=s64",
      "userId": "18301413610349739582"
     },
     "user_tz": -330
    },
    "id": "H1Pueu8P3q-U",
    "outputId": "e32e9877-39b2-422d-bbce-7d1712a04bad"
   },
   "outputs": [
    {
     "name": "stdout",
     "output_type": "stream",
     "text": [
      "data_trend\n",
      "              date location  total_cases  total_deaths\n",
      "115085  2020-10-31    World   46145023.0     1248717.0\n",
      "115115  2020-11-30    World   63422641.0     1525198.0\n",
      "115146  2020-12-31    World   83637792.0     1880709.0\n",
      "115177  2021-01-31    World  103081801.0     2298816.0\n",
      "115205  2021-02-28    World  114232608.0     2609758.0\n",
      "115236  2021-03-31    World  128951315.0     2909946.0\n",
      "115266  2021-04-30    World  151456844.0     3288482.0\n",
      "115297  2021-05-31    World  170786087.0     3667940.0\n",
      "115327  2021-06-30    World  182260540.0     3951057.0\n",
      "115358  2021-07-31    World  197935735.0     4220739.0\n",
      "115389  2021-08-31    World  217831709.0     4520193.0\n"
     ]
    }
   ],
   "source": [
    "#for quest 5\n",
    "#data_trend=data_sub.query(\"location in ('Africa','Asia','Europe','North America','Oceania','South America')\")\n",
    "data_trend=data_sub.query(\"location in ('World')\")\n",
    "data_trend=data_trend.query(\"date in ('2020-10-31','2020-11-30','2020-12-31','2021-01-31','2021-02-28','2021-03-31','2021-04-30','2021-05-31','2021-06-30','2021-07-31','2021-08-31','2021-09-30','2021-10-30')\")\n",
    "print(\"data_trend\")\n",
    "print(data_trend)"
   ]
  },
  {
   "cell_type": "markdown",
   "metadata": {
    "id": "DMvQht2634Nj"
   },
   "source": [
    "## Dataframe for other questions"
   ]
  },
  {
   "cell_type": "code",
   "execution_count": 103,
   "metadata": {
    "executionInfo": {
     "elapsed": 517,
     "status": "ok",
     "timestamp": 1632032881964,
     "user": {
      "displayName": "Unnikrishnan C S",
      "photoUrl": "https://lh3.googleusercontent.com/a/default-user=s64",
      "userId": "18301413610349739582"
     },
     "user_tz": -330
    },
    "id": "qYGbPFx137pD"
   },
   "outputs": [],
   "source": [
    "data_sub=data_sub.query(\"location not in ('World','Africa','Asia','Europe','North America','Oceania','South America')\") # ??? cntinnetns"
   ]
  },
  {
   "cell_type": "markdown",
   "metadata": {
    "id": "4Bf-XvGY4GKZ"
   },
   "source": [
    "# Get the total case and death count by location"
   ]
  },
  {
   "cell_type": "code",
   "execution_count": 104,
   "metadata": {
    "colab": {
     "base_uri": "https://localhost:8080/"
    },
    "executionInfo": {
     "elapsed": 474,
     "status": "ok",
     "timestamp": 1632032886634,
     "user": {
      "displayName": "Unnikrishnan C S",
      "photoUrl": "https://lh3.googleusercontent.com/a/default-user=s64",
      "userId": "18301413610349739582"
     },
     "user_tz": -330
    },
    "id": "0Z-ReQsz4K9d",
    "outputId": "6cd97787-5a2b-4fda-cda3-f1d5780d27b8"
   },
   "outputs": [
    {
     "name": "stdout",
     "output_type": "stream",
     "text": [
      "                                        date  total_cases  total_deaths\n",
      "location                                                               \n",
      "Afghanistan                       2021-09-15     154283.0        7174.0\n",
      "Albania                           2021-09-15     159423.0        2557.0\n",
      "Algeria                           2021-09-15     200770.0        5630.0\n",
      "Andorra                           2021-09-15      15108.0         130.0\n",
      "Angola                            2021-09-15      51407.0        1360.0\n",
      "Anguilla                          2021-09-10          NaN           NaN\n",
      "Antigua and Barbuda               2021-09-15       2304.0          48.0\n",
      "Argentina                         2021-09-15    5232358.0      113969.0\n",
      "Armenia                           2021-09-15     250559.0        5056.0\n",
      "Aruba                             2021-09-15          NaN           NaN\n",
      "Australia                         2021-09-15      80400.0        1128.0\n",
      "Austria                           2021-09-15     715893.0       10856.0\n",
      "Azerbaijan                        2021-09-15     463326.0        6167.0\n",
      "Bahamas                           2021-09-15      19795.0         469.0\n",
      "Bahrain                           2021-09-15     273977.0        1388.0\n",
      "Bangladesh                        2021-09-15    1536341.0       27058.0\n",
      "Barbados                          2021-09-15       6177.0          53.0\n",
      "Belarus                           2021-09-15     508514.0        3953.0\n",
      "Belgium                           2021-09-15    1215114.0       25486.0\n",
      "Belize                            2021-09-15      18143.0         385.0\n",
      "Benin                             2021-09-15      21450.0         146.0\n",
      "Bermuda                           2021-09-10          NaN           NaN\n",
      "Bhutan                            2021-09-15       2596.0           3.0\n",
      "Bolivia                           2021-09-15     496032.0       18616.0\n",
      "Bonaire Sint Eustatius and Saba   2021-09-01          NaN           NaN\n",
      "Bosnia and Herzegovina            2021-09-15     223957.0       10131.0\n",
      "Botswana                          2021-09-15     165644.0        2337.0\n",
      "Brazil                            2021-09-15   21034610.0      588597.0\n",
      "British Virgin Islands            2021-09-03          NaN           NaN\n",
      "Brunei                            2021-09-15       4566.0          23.0\n",
      "Bulgaria                          2021-09-15     477161.0       19809.0\n",
      "Burkina Faso                      2021-09-15      13972.0         172.0\n",
      "Burundi                           2021-09-15      14189.0          38.0\n",
      "Cambodia                          2021-09-15     101443.0        2067.0\n",
      "Cameroon                          2021-09-15      85414.0        1368.0\n",
      "Canada                            2021-09-15    1567557.0       27356.0\n",
      "Cape Verde                        2021-09-15      36816.0         324.0\n",
      "Cayman Islands                    2021-09-15          NaN           NaN\n",
      "Central African Republic          2021-09-15      11309.0         100.0\n",
      "Chad                              2021-09-15       5021.0         174.0\n",
      "Chile                             2021-09-15    1645233.0       37261.0\n",
      "China                             2021-09-15      95556.0        4639.0\n",
      "Colombia                          2021-09-15    4934568.0      125753.0\n",
      "Comoros                           2021-09-15       4100.0         147.0\n",
      "Congo                             2021-09-15      13701.0         183.0\n",
      "Cook Islands                      2021-08-31          NaN           NaN\n",
      "Costa Rica                        2021-09-15     499461.0        5889.0\n",
      "Cote d'Ivoire                     2021-09-15      58341.0         540.0\n",
      "Croatia                           2021-09-15     386891.0        8463.0\n",
      "Cuba                              2021-09-15     768497.0        6523.0\n",
      "Curacao                           2021-09-15          NaN           NaN\n",
      "Cyprus                            2021-09-15     116494.0         534.0\n",
      "Czechia                           2021-09-15    1684357.0       30417.0\n",
      "Democratic Republic of Congo      2021-09-15      56322.0        1068.0\n",
      "Denmark                           2021-09-15     354910.0        2619.0\n",
      "Djibouti                          2021-09-15      11927.0         157.0\n",
      "Dominica                          2021-09-15       2698.0           8.0\n",
      "Dominican Republic                2021-09-15     354169.0        4022.0\n",
      "Ecuador                           2021-09-15     505628.0       32491.0\n",
      "Egypt                             2021-09-15     294482.0       16908.0\n",
      "El Salvador                       2021-09-15      99701.0        3056.0\n",
      "Equatorial Guinea                 2021-09-15      10792.0         136.0\n",
      "Eritrea                           2021-09-15       6663.0          40.0\n",
      "Estonia                           2021-09-15     147881.0        1315.0\n",
      "Eswatini                          2021-09-15      45178.0        1190.0\n",
      "Ethiopia                          2021-09-15     327066.0        5035.0\n",
      "European Union                    2021-09-15   37197133.0      762669.0\n",
      "Faeroe Islands                    2021-09-14          NaN           NaN\n",
      "Falkland Islands                  2021-04-14          NaN           NaN\n",
      "Fiji                              2021-09-15      49390.0         540.0\n",
      "Finland                           2021-09-15     134827.0        1052.0\n",
      "France                            2021-09-15    7007819.0      116470.0\n",
      "French Polynesia                  2021-09-14          NaN           NaN\n",
      "Gabon                             2021-09-15      27291.0         174.0\n",
      "Gambia                            2021-09-15       9867.0         330.0\n",
      "Georgia                           2021-09-15     587551.0        8347.0\n",
      "Germany                           2021-09-15    4115342.0       92843.0\n",
      "Ghana                             2021-09-15     123874.0        1098.0\n",
      "Gibraltar                         2021-09-15          NaN           NaN\n",
      "Greece                            2021-09-15     622761.0       14311.0\n",
      "Greenland                         2021-09-15          NaN           NaN\n",
      "Grenada                           2021-09-15       2740.0          38.0\n",
      "Guatemala                         2021-09-15     519986.0       12859.0\n",
      "Guernsey                          2021-09-15          NaN           NaN\n",
      "Guinea                            2021-09-15      30085.0         368.0\n",
      "Guinea-Bissau                     2021-09-15       6042.0         130.0\n",
      "Guyana                            2021-09-15      28532.0         701.0\n",
      "Haiti                             2021-09-15      21318.0         596.0\n",
      "Honduras                          2021-09-15     354970.0        9400.0\n",
      "Hong Kong                         2021-09-15      12149.0         213.0\n",
      "Hungary                           2021-09-15     816222.0       30114.0\n",
      "Iceland                           2021-09-15      11338.0          33.0\n",
      "India                             2021-09-15   33347325.0      443928.0\n",
      "Indonesia                         2021-09-15    4178164.0      139682.0\n",
      "International                     2021-09-15        721.0          15.0\n",
      "Iran                              2021-09-15    5360387.0      115619.0\n",
      "Iraq                              2021-09-15    1963264.0       21631.0\n",
      "Ireland                           2021-09-15     368712.0        5179.0\n",
      "Isle of Man                       2021-09-15          NaN           NaN\n",
      "Israel                            2021-09-15    1202212.0        7452.0\n",
      "Italy                             2021-09-15    4618040.0      130100.0\n",
      "Jamaica                           2021-09-15      77497.0        1757.0\n",
      "Japan                             2021-09-15    1659192.0       16993.0\n",
      "Jersey                            2021-09-08          NaN           NaN\n",
      "Jordan                            2021-09-15     810559.0       10574.0\n",
      "Kazakhstan                        2021-09-15     925024.0       15031.0\n",
      "Kenya                             2021-09-15     244826.0        4949.0\n",
      "Kiribati                          2021-09-15          2.0           NaN\n",
      "Kosovo                            2021-09-15     158028.0        2845.0\n",
      "Kuwait                            2021-09-15     410960.0        2435.0\n",
      "Kyrgyzstan                        2021-09-15     177389.0        2578.0\n",
      "Laos                              2021-09-15      17905.0          16.0\n",
      "Latvia                            2021-09-15     148485.0        2628.0\n",
      "Lebanon                           2021-09-15     615532.0        8218.0\n",
      "Lesotho                           2021-09-15      14395.0         403.0\n",
      "Liberia                           2021-09-15       5727.0         245.0\n",
      "Libya                             2021-09-15     327803.0        4469.0\n",
      "Liechtenstein                     2021-09-15       3394.0          60.0\n",
      "Lithuania                         2021-09-15     311151.0        4740.0\n",
      "Luxembourg                        2021-09-15      76996.0         834.0\n",
      "Macao                             2021-09-13          NaN           NaN\n",
      "Madagascar                        2021-09-15      42898.0         958.0\n",
      "Malawi                            2021-09-15      61207.0        2246.0\n",
      "Malaysia                          2021-09-15    2030935.0       22009.0\n",
      "Maldives                          2021-09-15      83162.0         227.0\n",
      "Mali                              2021-09-15      15002.0         543.0\n",
      "Malta                             2021-09-15      36875.0         450.0\n",
      "Marshall Islands                  2021-09-15          4.0           NaN\n",
      "Mauritania                        2021-09-15      35142.0         760.0\n",
      "Mauritius                         2021-09-15      13782.0          45.0\n",
      "Mexico                            2021-09-15    3542189.0      269913.0\n",
      "Micronesia (country)              2021-09-15          1.0           NaN\n",
      "Moldova                           2021-09-15     277854.0        6559.0\n",
      "Monaco                            2021-09-15       3285.0          33.0\n",
      "Mongolia                          2021-09-15     266680.0        1074.0\n",
      "Montenegro                        2021-09-15     123755.0        1818.0\n",
      "Montserrat                        2021-09-10          NaN           NaN\n",
      "Morocco                           2021-09-15     910991.0       13729.0\n",
      "Mozambique                        2021-09-15     149671.0        1898.0\n",
      "Myanmar                           2021-09-15     438951.0       16784.0\n",
      "Namibia                           2021-09-15     126430.0        3437.0\n",
      "Nauru                             2021-08-31          NaN           NaN\n",
      "Nepal                             2021-09-15     780824.0       10991.0\n",
      "Netherlands                       2021-09-15    2014008.0       18476.0\n",
      "New Caledonia                     2021-09-14          NaN           NaN\n",
      "New Zealand                       2021-09-15       4000.0          27.0\n",
      "Nicaragua                         2021-09-15      13025.0         202.0\n",
      "Niger                             2021-09-15       5938.0         201.0\n",
      "Nigeria                           2021-09-15     200356.0        2640.0\n",
      "Niue                              2021-08-02          NaN           NaN\n",
      "North Macedonia                   2021-09-15     184893.0        6339.0\n",
      "Northern Cyprus                   2021-08-15          NaN           NaN\n",
      "Norway                            2021-09-15     179450.0         841.0\n",
      "Oman                              2021-09-15     303268.0        4090.0\n",
      "Pakistan                          2021-09-15    1215821.0       27004.0\n",
      "Palau                             2021-09-15          5.0           NaN\n",
      "Palestine                         2021-09-15     377134.0        3856.0\n",
      "Panama                            2021-09-15     463086.0        7159.0\n",
      "Papua New Guinea                  2021-09-15      18542.0         204.0\n",
      "Paraguay                          2021-09-15     459391.0       16114.0\n",
      "Peru                              2021-09-15    2163312.0      198860.0\n",
      "Philippines                       2021-09-15    2283011.0       35742.0\n",
      "Pitcairn                          2021-09-07          NaN           NaN\n",
      "Poland                            2021-09-15    2895223.0       75454.0\n",
      "Portugal                          2021-09-15    1058347.0       17882.0\n",
      "Qatar                             2021-09-15     235054.0         604.0\n",
      "Romania                           2021-09-15    1130586.0       35215.0\n",
      "Russia                            2021-09-15    7091368.0      191566.0\n",
      "Rwanda                            2021-09-15      94055.0        1184.0\n",
      "Saint Helena                      2021-05-05          NaN           NaN\n",
      "Saint Kitts and Nevis             2021-09-15       1556.0           9.0\n",
      "Saint Lucia                       2021-09-15      10082.0         136.0\n",
      "Saint Vincent and the Grenadines  2021-09-15       2559.0          13.0\n",
      "Samoa                             2021-09-15          3.0           NaN\n",
      "San Marino                        2021-09-15       5402.0          90.0\n",
      "Sao Tome and Principe             2021-09-15       2893.0          42.0\n",
      "Saudi Arabia                      2021-09-15     545829.0        8610.0\n",
      "Senegal                           2021-09-15      73539.0        1838.0\n",
      "Serbia                            2021-09-15     838512.0        7633.0\n",
      "Seychelles                        2021-09-15      20593.0         106.0\n",
      "Sierra Leone                      2021-09-15       6388.0         121.0\n",
      "Singapore                         2021-09-15      73938.0          58.0\n",
      "Sint Maarten (Dutch part)         2021-09-10          NaN           NaN\n",
      "Slovakia                          2021-09-15     399978.0       12566.0\n",
      "Slovenia                          2021-09-15     279217.0        4479.0\n",
      "Solomon Islands                   2021-09-15         20.0           NaN\n",
      "Somalia                           2021-09-15      18820.0        1041.0\n",
      "South Africa                      2021-09-15    2869201.0       85468.0\n",
      "South Korea                       2021-09-15     279930.0        2386.0\n",
      "South Sudan                       2021-09-15      11767.0         121.0\n",
      "Spain                             2021-09-15    4922249.0       85638.0\n",
      "Sri Lanka                         2021-09-15     496423.0       11699.0\n",
      "Sudan                             2021-09-15      37951.0        2875.0\n",
      "Suriname                          2021-09-15      35208.0         780.0\n",
      "Sweden                            2021-09-15    1142770.0       14740.0\n",
      "Switzerland                       2021-09-15     818715.0       10980.0\n",
      "Syria                             2021-09-15      29974.0        2097.0\n",
      "Taiwan                            2021-09-15      16103.0         839.0\n",
      "Tajikistan                        2021-09-15      17484.0         125.0\n",
      "Tanzania                          2021-09-15       1367.0          50.0\n",
      "Thailand                          2021-09-15    1420343.0       14765.0\n",
      "Timor                             2021-09-15      18786.0         100.0\n",
      "Togo                              2021-09-15      24093.0         209.0\n",
      "Tokelau                           2021-08-16          NaN           NaN\n",
      "Tonga                             2021-08-31          NaN           NaN\n",
      "Trinidad and Tobago               2021-09-15      47653.0        1391.0\n",
      "Tunisia                           2021-09-15     696279.0       24337.0\n",
      "Turkey                            2021-09-15    6738860.0       60641.0\n",
      "Turkmenistan                      2021-04-04          NaN           NaN\n",
      "Turks and Caicos Islands          2021-09-10          NaN           NaN\n",
      "Tuvalu                            2021-08-26          NaN           NaN\n",
      "Uganda                            2021-09-15     121687.0        3106.0\n",
      "Ukraine                           2021-09-15    2429354.0       58025.0\n",
      "United Arab Emirates              2021-09-15     730743.0        2068.0\n",
      "United Kingdom                    2021-09-15    7346832.0      134975.0\n",
      "United States                     2021-09-15   41627946.0      666607.0\n",
      "Uruguay                           2021-09-15     387156.0        6045.0\n",
      "Uzbekistan                        2021-09-15     166025.0        1169.0\n",
      "Vanuatu                           2021-09-15          4.0           1.0\n",
      "Vatican                           2021-09-15         27.0           NaN\n",
      "Venezuela                         2021-09-15     349731.0        4228.0\n",
      "Vietnam                           2021-09-15     645640.0       16186.0\n",
      "Wallis and Futuna                 2021-09-14          NaN           NaN\n",
      "Yemen                             2021-09-15       8527.0        1612.0\n",
      "Zambia                            2021-09-15     208161.0        3636.0\n",
      "Zimbabwe                          2021-09-15     127083.0        4551.0\n"
     ]
    }
   ],
   "source": [
    "#groupby location\n",
    "data_filter=data_sub.groupby(by=\"location\").max()\n",
    "print(data_filter)"
   ]
  },
  {
   "cell_type": "markdown",
   "metadata": {
    "id": "QpCFJFFWZt0E"
   },
   "source": [
    "# Drop NaN values"
   ]
  },
  {
   "cell_type": "code",
   "execution_count": 105,
   "metadata": {
    "colab": {
     "base_uri": "https://localhost:8080/"
    },
    "executionInfo": {
     "elapsed": 423,
     "status": "ok",
     "timestamp": 1632032891085,
     "user": {
      "displayName": "Unnikrishnan C S",
      "photoUrl": "https://lh3.googleusercontent.com/a/default-user=s64",
      "userId": "18301413610349739582"
     },
     "user_tz": -330
    },
    "id": "uwAgp2WiZzb9",
    "outputId": "69822b1a-44de-44b0-ad00-e2ad90d7d50c"
   },
   "outputs": [
    {
     "name": "stdout",
     "output_type": "stream",
     "text": [
      "                                        date  total_cases  total_deaths\n",
      "location                                                               \n",
      "Afghanistan                       2021-09-15     154283.0        7174.0\n",
      "Albania                           2021-09-15     159423.0        2557.0\n",
      "Algeria                           2021-09-15     200770.0        5630.0\n",
      "Andorra                           2021-09-15      15108.0         130.0\n",
      "Angola                            2021-09-15      51407.0        1360.0\n",
      "Antigua and Barbuda               2021-09-15       2304.0          48.0\n",
      "Argentina                         2021-09-15    5232358.0      113969.0\n",
      "Armenia                           2021-09-15     250559.0        5056.0\n",
      "Australia                         2021-09-15      80400.0        1128.0\n",
      "Austria                           2021-09-15     715893.0       10856.0\n",
      "Azerbaijan                        2021-09-15     463326.0        6167.0\n",
      "Bahamas                           2021-09-15      19795.0         469.0\n",
      "Bahrain                           2021-09-15     273977.0        1388.0\n",
      "Bangladesh                        2021-09-15    1536341.0       27058.0\n",
      "Barbados                          2021-09-15       6177.0          53.0\n",
      "Belarus                           2021-09-15     508514.0        3953.0\n",
      "Belgium                           2021-09-15    1215114.0       25486.0\n",
      "Belize                            2021-09-15      18143.0         385.0\n",
      "Benin                             2021-09-15      21450.0         146.0\n",
      "Bhutan                            2021-09-15       2596.0           3.0\n",
      "Bolivia                           2021-09-15     496032.0       18616.0\n",
      "Bosnia and Herzegovina            2021-09-15     223957.0       10131.0\n",
      "Botswana                          2021-09-15     165644.0        2337.0\n",
      "Brazil                            2021-09-15   21034610.0      588597.0\n",
      "Brunei                            2021-09-15       4566.0          23.0\n",
      "Bulgaria                          2021-09-15     477161.0       19809.0\n",
      "Burkina Faso                      2021-09-15      13972.0         172.0\n",
      "Burundi                           2021-09-15      14189.0          38.0\n",
      "Cambodia                          2021-09-15     101443.0        2067.0\n",
      "Cameroon                          2021-09-15      85414.0        1368.0\n",
      "Canada                            2021-09-15    1567557.0       27356.0\n",
      "Cape Verde                        2021-09-15      36816.0         324.0\n",
      "Central African Republic          2021-09-15      11309.0         100.0\n",
      "Chad                              2021-09-15       5021.0         174.0\n",
      "Chile                             2021-09-15    1645233.0       37261.0\n",
      "China                             2021-09-15      95556.0        4639.0\n",
      "Colombia                          2021-09-15    4934568.0      125753.0\n",
      "Comoros                           2021-09-15       4100.0         147.0\n",
      "Congo                             2021-09-15      13701.0         183.0\n",
      "Costa Rica                        2021-09-15     499461.0        5889.0\n",
      "Cote d'Ivoire                     2021-09-15      58341.0         540.0\n",
      "Croatia                           2021-09-15     386891.0        8463.0\n",
      "Cuba                              2021-09-15     768497.0        6523.0\n",
      "Cyprus                            2021-09-15     116494.0         534.0\n",
      "Czechia                           2021-09-15    1684357.0       30417.0\n",
      "Democratic Republic of Congo      2021-09-15      56322.0        1068.0\n",
      "Denmark                           2021-09-15     354910.0        2619.0\n",
      "Djibouti                          2021-09-15      11927.0         157.0\n",
      "Dominica                          2021-09-15       2698.0           8.0\n",
      "Dominican Republic                2021-09-15     354169.0        4022.0\n",
      "Ecuador                           2021-09-15     505628.0       32491.0\n",
      "Egypt                             2021-09-15     294482.0       16908.0\n",
      "El Salvador                       2021-09-15      99701.0        3056.0\n",
      "Equatorial Guinea                 2021-09-15      10792.0         136.0\n",
      "Eritrea                           2021-09-15       6663.0          40.0\n",
      "Estonia                           2021-09-15     147881.0        1315.0\n",
      "Eswatini                          2021-09-15      45178.0        1190.0\n",
      "Ethiopia                          2021-09-15     327066.0        5035.0\n",
      "European Union                    2021-09-15   37197133.0      762669.0\n",
      "Fiji                              2021-09-15      49390.0         540.0\n",
      "Finland                           2021-09-15     134827.0        1052.0\n",
      "France                            2021-09-15    7007819.0      116470.0\n",
      "Gabon                             2021-09-15      27291.0         174.0\n",
      "Gambia                            2021-09-15       9867.0         330.0\n",
      "Georgia                           2021-09-15     587551.0        8347.0\n",
      "Germany                           2021-09-15    4115342.0       92843.0\n",
      "Ghana                             2021-09-15     123874.0        1098.0\n",
      "Greece                            2021-09-15     622761.0       14311.0\n",
      "Grenada                           2021-09-15       2740.0          38.0\n",
      "Guatemala                         2021-09-15     519986.0       12859.0\n",
      "Guinea                            2021-09-15      30085.0         368.0\n",
      "Guinea-Bissau                     2021-09-15       6042.0         130.0\n",
      "Guyana                            2021-09-15      28532.0         701.0\n",
      "Haiti                             2021-09-15      21318.0         596.0\n",
      "Honduras                          2021-09-15     354970.0        9400.0\n",
      "Hong Kong                         2021-09-15      12149.0         213.0\n",
      "Hungary                           2021-09-15     816222.0       30114.0\n",
      "Iceland                           2021-09-15      11338.0          33.0\n",
      "India                             2021-09-15   33347325.0      443928.0\n",
      "Indonesia                         2021-09-15    4178164.0      139682.0\n",
      "International                     2021-09-15        721.0          15.0\n",
      "Iran                              2021-09-15    5360387.0      115619.0\n",
      "Iraq                              2021-09-15    1963264.0       21631.0\n",
      "Ireland                           2021-09-15     368712.0        5179.0\n",
      "Israel                            2021-09-15    1202212.0        7452.0\n",
      "Italy                             2021-09-15    4618040.0      130100.0\n",
      "Jamaica                           2021-09-15      77497.0        1757.0\n",
      "Japan                             2021-09-15    1659192.0       16993.0\n",
      "Jordan                            2021-09-15     810559.0       10574.0\n",
      "Kazakhstan                        2021-09-15     925024.0       15031.0\n",
      "Kenya                             2021-09-15     244826.0        4949.0\n",
      "Kosovo                            2021-09-15     158028.0        2845.0\n",
      "Kuwait                            2021-09-15     410960.0        2435.0\n",
      "Kyrgyzstan                        2021-09-15     177389.0        2578.0\n",
      "Laos                              2021-09-15      17905.0          16.0\n",
      "Latvia                            2021-09-15     148485.0        2628.0\n",
      "Lebanon                           2021-09-15     615532.0        8218.0\n",
      "Lesotho                           2021-09-15      14395.0         403.0\n",
      "Liberia                           2021-09-15       5727.0         245.0\n",
      "Libya                             2021-09-15     327803.0        4469.0\n",
      "Liechtenstein                     2021-09-15       3394.0          60.0\n",
      "Lithuania                         2021-09-15     311151.0        4740.0\n",
      "Luxembourg                        2021-09-15      76996.0         834.0\n",
      "Madagascar                        2021-09-15      42898.0         958.0\n",
      "Malawi                            2021-09-15      61207.0        2246.0\n",
      "Malaysia                          2021-09-15    2030935.0       22009.0\n",
      "Maldives                          2021-09-15      83162.0         227.0\n",
      "Mali                              2021-09-15      15002.0         543.0\n",
      "Malta                             2021-09-15      36875.0         450.0\n",
      "Mauritania                        2021-09-15      35142.0         760.0\n",
      "Mauritius                         2021-09-15      13782.0          45.0\n",
      "Mexico                            2021-09-15    3542189.0      269913.0\n",
      "Moldova                           2021-09-15     277854.0        6559.0\n",
      "Monaco                            2021-09-15       3285.0          33.0\n",
      "Mongolia                          2021-09-15     266680.0        1074.0\n",
      "Montenegro                        2021-09-15     123755.0        1818.0\n",
      "Morocco                           2021-09-15     910991.0       13729.0\n",
      "Mozambique                        2021-09-15     149671.0        1898.0\n",
      "Myanmar                           2021-09-15     438951.0       16784.0\n",
      "Namibia                           2021-09-15     126430.0        3437.0\n",
      "Nepal                             2021-09-15     780824.0       10991.0\n",
      "Netherlands                       2021-09-15    2014008.0       18476.0\n",
      "New Zealand                       2021-09-15       4000.0          27.0\n",
      "Nicaragua                         2021-09-15      13025.0         202.0\n",
      "Niger                             2021-09-15       5938.0         201.0\n",
      "Nigeria                           2021-09-15     200356.0        2640.0\n",
      "North Macedonia                   2021-09-15     184893.0        6339.0\n",
      "Norway                            2021-09-15     179450.0         841.0\n",
      "Oman                              2021-09-15     303268.0        4090.0\n",
      "Pakistan                          2021-09-15    1215821.0       27004.0\n",
      "Palestine                         2021-09-15     377134.0        3856.0\n",
      "Panama                            2021-09-15     463086.0        7159.0\n",
      "Papua New Guinea                  2021-09-15      18542.0         204.0\n",
      "Paraguay                          2021-09-15     459391.0       16114.0\n",
      "Peru                              2021-09-15    2163312.0      198860.0\n",
      "Philippines                       2021-09-15    2283011.0       35742.0\n",
      "Poland                            2021-09-15    2895223.0       75454.0\n",
      "Portugal                          2021-09-15    1058347.0       17882.0\n",
      "Qatar                             2021-09-15     235054.0         604.0\n",
      "Romania                           2021-09-15    1130586.0       35215.0\n",
      "Russia                            2021-09-15    7091368.0      191566.0\n",
      "Rwanda                            2021-09-15      94055.0        1184.0\n",
      "Saint Kitts and Nevis             2021-09-15       1556.0           9.0\n",
      "Saint Lucia                       2021-09-15      10082.0         136.0\n",
      "Saint Vincent and the Grenadines  2021-09-15       2559.0          13.0\n",
      "San Marino                        2021-09-15       5402.0          90.0\n",
      "Sao Tome and Principe             2021-09-15       2893.0          42.0\n",
      "Saudi Arabia                      2021-09-15     545829.0        8610.0\n",
      "Senegal                           2021-09-15      73539.0        1838.0\n",
      "Serbia                            2021-09-15     838512.0        7633.0\n",
      "Seychelles                        2021-09-15      20593.0         106.0\n",
      "Sierra Leone                      2021-09-15       6388.0         121.0\n",
      "Singapore                         2021-09-15      73938.0          58.0\n",
      "Slovakia                          2021-09-15     399978.0       12566.0\n",
      "Slovenia                          2021-09-15     279217.0        4479.0\n",
      "Somalia                           2021-09-15      18820.0        1041.0\n",
      "South Africa                      2021-09-15    2869201.0       85468.0\n",
      "South Korea                       2021-09-15     279930.0        2386.0\n",
      "South Sudan                       2021-09-15      11767.0         121.0\n",
      "Spain                             2021-09-15    4922249.0       85638.0\n",
      "Sri Lanka                         2021-09-15     496423.0       11699.0\n",
      "Sudan                             2021-09-15      37951.0        2875.0\n",
      "Suriname                          2021-09-15      35208.0         780.0\n",
      "Sweden                            2021-09-15    1142770.0       14740.0\n",
      "Switzerland                       2021-09-15     818715.0       10980.0\n",
      "Syria                             2021-09-15      29974.0        2097.0\n",
      "Taiwan                            2021-09-15      16103.0         839.0\n",
      "Tajikistan                        2021-09-15      17484.0         125.0\n",
      "Tanzania                          2021-09-15       1367.0          50.0\n",
      "Thailand                          2021-09-15    1420343.0       14765.0\n",
      "Timor                             2021-09-15      18786.0         100.0\n",
      "Togo                              2021-09-15      24093.0         209.0\n",
      "Trinidad and Tobago               2021-09-15      47653.0        1391.0\n",
      "Tunisia                           2021-09-15     696279.0       24337.0\n",
      "Turkey                            2021-09-15    6738860.0       60641.0\n",
      "Uganda                            2021-09-15     121687.0        3106.0\n",
      "Ukraine                           2021-09-15    2429354.0       58025.0\n",
      "United Arab Emirates              2021-09-15     730743.0        2068.0\n",
      "United Kingdom                    2021-09-15    7346832.0      134975.0\n",
      "United States                     2021-09-15   41627946.0      666607.0\n",
      "Uruguay                           2021-09-15     387156.0        6045.0\n",
      "Uzbekistan                        2021-09-15     166025.0        1169.0\n",
      "Vanuatu                           2021-09-15          4.0           1.0\n",
      "Venezuela                         2021-09-15     349731.0        4228.0\n",
      "Vietnam                           2021-09-15     645640.0       16186.0\n",
      "Yemen                             2021-09-15       8527.0        1612.0\n",
      "Zambia                            2021-09-15     208161.0        3636.0\n",
      "Zimbabwe                          2021-09-15     127083.0        4551.0\n"
     ]
    }
   ],
   "source": [
    "#data_filter.fillna(0,inplace=True)\n",
    "data_filter.dropna(inplace=True)\n",
    "print(data_filter)"
   ]
  },
  {
   "cell_type": "markdown",
   "metadata": {
    "id": "5URPwOfs4U8g"
   },
   "source": [
    "# Country/countries [Top 10] with most number of deaths and cases"
   ]
  },
  {
   "cell_type": "code",
   "execution_count": 106,
   "metadata": {
    "colab": {
     "base_uri": "https://localhost:8080/"
    },
    "executionInfo": {
     "elapsed": 365,
     "status": "ok",
     "timestamp": 1632032895654,
     "user": {
      "displayName": "Unnikrishnan C S",
      "photoUrl": "https://lh3.googleusercontent.com/a/default-user=s64",
      "userId": "18301413610349739582"
     },
     "user_tz": -330
    },
    "id": "Q3V_LQyx4aRW",
    "outputId": "64684f45-245d-4295-d292-51acb9102724"
   },
   "outputs": [
    {
     "name": "stdout",
     "output_type": "stream",
     "text": [
      "Top 10 countries with Most Cases\n",
      "location\n",
      "United States     41627946.0\n",
      "European Union    37197133.0\n",
      "India             33347325.0\n",
      "Brazil            21034610.0\n",
      "United Kingdom     7346832.0\n",
      "Russia             7091368.0\n",
      "France             7007819.0\n",
      "Turkey             6738860.0\n",
      "Iran               5360387.0\n",
      "Argentina          5232358.0\n",
      "Name: total_cases, dtype: float64\n",
      "\n",
      "\n",
      "Top 10 countries with Most Deaths\n",
      "location\n",
      "European Union    762669.0\n",
      "United States     666607.0\n",
      "Brazil            588597.0\n",
      "India             443928.0\n",
      "Mexico            269913.0\n",
      "Peru              198860.0\n",
      "Russia            191566.0\n",
      "Indonesia         139682.0\n",
      "United Kingdom    134975.0\n",
      "Italy             130100.0\n",
      "Name: total_deaths, dtype: float64\n",
      "\n",
      "\n"
     ]
    }
   ],
   "source": [
    "print(\"Top 10 countries with Most Cases\")\n",
    "print(data_filter.total_cases.nlargest(n=10))\n",
    "print(\"\\n\")\n",
    "\n",
    "print(\"Top 10 countries with Most Deaths\")\n",
    "print(data_filter.total_deaths.nlargest(n=10))\n",
    "print(\"\\n\")"
   ]
  },
  {
   "cell_type": "markdown",
   "metadata": {
    "id": "7AsPyBKP4eYn"
   },
   "source": [
    "# Country/countries  [Top 10] with least number of deaths and cases (ignoring countries with 0 cases)"
   ]
  },
  {
   "cell_type": "code",
   "execution_count": 107,
   "metadata": {
    "colab": {
     "base_uri": "https://localhost:8080/"
    },
    "executionInfo": {
     "elapsed": 417,
     "status": "ok",
     "timestamp": 1632032900208,
     "user": {
      "displayName": "Unnikrishnan C S",
      "photoUrl": "https://lh3.googleusercontent.com/a/default-user=s64",
      "userId": "18301413610349739582"
     },
     "user_tz": -330
    },
    "id": "qbox-gHy4jF-",
    "outputId": "eea92429-bc5b-49b6-f33a-1bbbe239477b"
   },
   "outputs": [
    {
     "name": "stdout",
     "output_type": "stream",
     "text": [
      "Top 10 countries with least cases\n",
      "location\n",
      "Vanuatu                                4.0\n",
      "International                        721.0\n",
      "Tanzania                            1367.0\n",
      "Saint Kitts and Nevis               1556.0\n",
      "Antigua and Barbuda                 2304.0\n",
      "Saint Vincent and the Grenadines    2559.0\n",
      "Bhutan                              2596.0\n",
      "Dominica                            2698.0\n",
      "Grenada                             2740.0\n",
      "Sao Tome and Principe               2893.0\n",
      "Name: total_cases, dtype: float64\n",
      "\n",
      "\n",
      "Top 10 countries with least deaths\n",
      "location\n",
      "Vanuatu                              1.0\n",
      "Bhutan                               3.0\n",
      "Dominica                             8.0\n",
      "Saint Kitts and Nevis                9.0\n",
      "Saint Vincent and the Grenadines    13.0\n",
      "International                       15.0\n",
      "Laos                                16.0\n",
      "Brunei                              23.0\n",
      "New Zealand                         27.0\n",
      "Iceland                             33.0\n",
      "Name: total_deaths, dtype: float64\n",
      "\n",
      "\n"
     ]
    }
   ],
   "source": [
    "print(\"Top 10 countries with least cases\")\n",
    "print(data_filter.total_cases.nsmallest(n=10))\n",
    "print(\"\\n\")\n",
    "\n",
    "print(\"Top 10 countries with least deaths\")\n",
    "print(data_filter.total_deaths.nsmallest(n=10))\n",
    "print(\"\\n\")"
   ]
  },
  {
   "cell_type": "markdown",
   "metadata": {
    "id": "J9i5j1dN4nsQ"
   },
   "source": [
    "# Total number of cases and deaths in India"
   ]
  },
  {
   "cell_type": "code",
   "execution_count": 108,
   "metadata": {
    "colab": {
     "base_uri": "https://localhost:8080/"
    },
    "executionInfo": {
     "elapsed": 500,
     "status": "ok",
     "timestamp": 1632032905628,
     "user": {
      "displayName": "Unnikrishnan C S",
      "photoUrl": "https://lh3.googleusercontent.com/a/default-user=s64",
      "userId": "18301413610349739582"
     },
     "user_tz": -330
    },
    "id": "8o-FZPW94rst",
    "outputId": "3c0c1fc1-9f5a-47d0-fcd5-550490691d6c"
   },
   "outputs": [
    {
     "name": "stdout",
     "output_type": "stream",
     "text": [
      "Total number of cases and deaths in India\n",
      "                date  total_cases  total_deaths\n",
      "location                                       \n",
      "India     2021-09-15   33347325.0      443928.0\n"
     ]
    }
   ],
   "source": [
    "print(\"Total number of cases and deaths in India\")\n",
    "print(data_filter.query(\"location=='India'\"))"
   ]
  },
  {
   "cell_type": "markdown",
   "metadata": {
    "id": "tnTJUytm4zRj"
   },
   "source": [
    "# Forecast and plot number of cases for the next 30 days (use FbProphet)"
   ]
  },
  {
   "cell_type": "markdown",
   "metadata": {
    "id": "phiopmQize6W"
   },
   "source": [
    "## Plot data"
   ]
  },
  {
   "cell_type": "code",
   "execution_count": 109,
   "metadata": {
    "colab": {
     "base_uri": "https://localhost:8080/",
     "height": 265
    },
    "executionInfo": {
     "elapsed": 4203,
     "status": "ok",
     "timestamp": 1632032914351,
     "user": {
      "displayName": "Unnikrishnan C S",
      "photoUrl": "https://lh3.googleusercontent.com/a/default-user=s64",
      "userId": "18301413610349739582"
     },
     "user_tz": -330
    },
    "id": "GDbyzHlL44Xp",
    "outputId": "865c6a04-cd62-4331-dc01-b892fd7d1aeb"
   },
   "outputs": [
    {
     "data": {
      "image/png": "[encoded data removed]",
      "text/plain": [
       "<Figure size 432x288 with 1 Axes>"
      ]
     },
     "metadata": {
      "needs_background": "light"
     },
     "output_type": "display_data"
    }
   ],
   "source": [
    "#plot data to view the trend\n",
    "data_forecast.plot()\n",
    "plt.show()"
   ]
  },
  {
   "cell_type": "markdown",
   "metadata": {
    "id": "CsBYR3WPzuJT"
   },
   "source": [
    "##change column to suit prophet"
   ]
  },
  {
   "cell_type": "code",
   "execution_count": 110,
   "metadata": {
    "colab": {
     "base_uri": "https://localhost:8080/"
    },
    "executionInfo": {
     "elapsed": 612,
     "status": "ok",
     "timestamp": 1632032919449,
     "user": {
      "displayName": "Unnikrishnan C S",
      "photoUrl": "https://lh3.googleusercontent.com/a/default-user=s64",
      "userId": "18301413610349739582"
     },
     "user_tz": -330
    },
    "id": "mGhyD6CzimbV",
    "outputId": "7352d962-184b-4543-d250-494830b983b6"
   },
   "outputs": [
    {
     "name": "stdout",
     "output_type": "stream",
     "text": [
      "              ds        y\n",
      "48984 2021-09-11  28591.0\n",
      "48985 2021-09-12  27254.0\n",
      "48986 2021-09-13  25404.0\n",
      "48987 2021-09-14  27176.0\n",
      "48988 2021-09-15  30570.0\n"
     ]
    }
   ],
   "source": [
    "#change column to prophet format\n",
    "data_forecast.columns=[\"ds\",\"y\"]\n",
    "data_forecast[\"ds\"]=to_datetime(data_forecast[\"ds\"])\n",
    "print(data_forecast.tail(5))\n"
   ]
  },
  {
   "cell_type": "markdown",
   "metadata": {
    "id": "VqlLX8x7z_St"
   },
   "source": [
    "## fit prophet model"
   ]
  },
  {
   "cell_type": "code",
   "execution_count": 111,
   "metadata": {
    "colab": {
     "base_uri": "https://localhost:8080/"
    },
    "executionInfo": {
     "elapsed": 419,
     "status": "ok",
     "timestamp": 1632032924781,
     "user": {
      "displayName": "Unnikrishnan C S",
      "photoUrl": "https://lh3.googleusercontent.com/a/default-user=s64",
      "userId": "18301413610349739582"
     },
     "user_tz": -330
    },
    "id": "3wIJHM-CjLHI",
    "outputId": "c2d090b0-9323-4cfa-e85d-603fb4b371cb"
   },
   "outputs": [
    {
     "name": "stderr",
     "output_type": "stream",
     "text": [
      "INFO:fbprophet:Disabling yearly seasonality. Run prophet with yearly_seasonality=True to override this.\n",
      "INFO:fbprophet:Disabling daily seasonality. Run prophet with daily_seasonality=True to override this.\n"
     ]
    },
    {
     "data": {
      "text/plain": [
       "<fbprophet.forecaster.Prophet at 0x7f63dc621650>"
      ]
     },
     "execution_count": 111,
     "metadata": {},
     "output_type": "execute_result"
    }
   ],
   "source": [
    "#fit prophet model\n",
    "model=Prophet()\n",
    "model.fit(data_forecast)"
   ]
  },
  {
   "cell_type": "markdown",
   "metadata": {
    "id": "pFikSkiX0HBv"
   },
   "source": [
    "## # create 30 dates to forecast starting from 16th Sep21 (India)"
   ]
  },
  {
   "cell_type": "code",
   "execution_count": 112,
   "metadata": {
    "colab": {
     "base_uri": "https://localhost:8080/"
    },
    "executionInfo": {
     "elapsed": 11,
     "status": "ok",
     "timestamp": 1632032931125,
     "user": {
      "displayName": "Unnikrishnan C S",
      "photoUrl": "https://lh3.googleusercontent.com/a/default-user=s64",
      "userId": "18301413610349739582"
     },
     "user_tz": -330
    },
    "id": "H2C4l6qykVbO",
    "outputId": "60fda9d7-d6d1-4661-ffbf-ae566ab2f11f"
   },
   "outputs": [
    {
     "name": "stdout",
     "output_type": "stream",
     "text": [
      "           ds\n",
      "0  2021-09-16\n",
      "1  2021-09-17\n",
      "2  2021-09-18\n",
      "3  2021-09-19\n",
      "4  2021-09-20\n",
      "5  2021-09-21\n",
      "6  2021-09-22\n",
      "7  2021-09-23\n",
      "8  2021-09-24\n",
      "9  2021-09-25\n",
      "10 2021-09-26\n",
      "11 2021-09-27\n",
      "12 2021-09-28\n",
      "13 2021-09-29\n",
      "14 2021-09-30\n",
      "15 2021-10-01\n",
      "16 2021-10-02\n",
      "17 2021-10-03\n",
      "18 2021-10-04\n",
      "19 2021-10-05\n",
      "20 2021-10-06\n",
      "21 2021-10-07\n",
      "22 2021-10-08\n",
      "23 2021-10-09\n",
      "24 2021-10-10\n",
      "25 2021-10-11\n",
      "26 2021-10-12\n",
      "27 2021-10-13\n",
      "28 2021-10-14\n",
      "29 2021-10-15\n"
     ]
    }
   ],
   "source": [
    "# create 30 dates to forecast starting from 16th Sep21\n",
    "\n",
    "future=list()\n",
    "for i in range(16,31):\n",
    "  date='2021-09-%02d'%i\n",
    "  future.append([date])\n",
    "\n",
    "for i in range(1,16):\n",
    "  date='2021-10-%02d'%i\n",
    "  future.append([date])\n",
    "\n",
    "future=pd.DataFrame(future)\n",
    "future.columns=[\"ds\"]\n",
    "future[\"ds\"]=to_datetime(future[\"ds\"])\n",
    "\n",
    "print(future)\n"
   ]
  },
  {
   "cell_type": "markdown",
   "metadata": {
    "id": "8oQBA0pM0ONc"
   },
   "source": [
    "##predict the cases"
   ]
  },
  {
   "cell_type": "code",
   "execution_count": 113,
   "metadata": {
    "colab": {
     "base_uri": "https://localhost:8080/"
    },
    "executionInfo": {
     "elapsed": 1750,
     "status": "ok",
     "timestamp": 1632032937263,
     "user": {
      "displayName": "Unnikrishnan C S",
      "photoUrl": "https://lh3.googleusercontent.com/a/default-user=s64",
      "userId": "18301413610349739582"
     },
     "user_tz": -330
    },
    "id": "w-M7-F8bqgZk",
    "outputId": "34b71862-0d5e-4b99-81e9-d2aa5ce82128"
   },
   "outputs": [
    {
     "name": "stdout",
     "output_type": "stream",
     "text": [
      "           ds         trend  ...  multiplicative_terms_upper          yhat\n",
      "0  2021-09-16   8224.486015  ...                         0.0  10107.796045\n",
      "1  2021-09-17   6983.691587  ...                         0.0  10133.938276\n",
      "2  2021-09-18   5742.897158  ...                         0.0   7823.078706\n",
      "3  2021-09-19   4502.102730  ...                         0.0   3346.411430\n",
      "4  2021-09-20   3261.308301  ...                         0.0  -4279.198770\n",
      "5  2021-09-21   2020.513873  ...                         0.0    760.959756\n",
      "6  2021-09-22    779.719445  ...                         0.0   3621.733666\n",
      "7  2021-09-23   -461.074984  ...                         0.0   1422.235046\n",
      "8  2021-09-24  -1701.869412  ...                         0.0   1448.377277\n",
      "9  2021-09-25  -2942.663840  ...                         0.0   -862.482293\n",
      "10 2021-09-26  -4183.458269  ...                         0.0  -5339.149569\n",
      "11 2021-09-27  -5424.252697  ...                         0.0 -12964.759769\n",
      "12 2021-09-28  -6665.047126  ...                         0.0  -7924.601243\n",
      "13 2021-09-29  -7905.841554  ...                         0.0  -5063.827333\n",
      "14 2021-09-30  -9146.635982  ...                         0.0  -7263.325953\n",
      "15 2021-10-01 -10387.430411  ...                         0.0  -7237.183722\n",
      "16 2021-10-02 -11628.224839  ...                         0.0  -9548.043292\n",
      "17 2021-10-03 -12869.019268  ...                         0.0 -14024.710567\n",
      "18 2021-10-04 -14109.813696  ...                         0.0 -21650.320767\n",
      "19 2021-10-05 -15350.608124  ...                         0.0 -16610.162241\n",
      "20 2021-10-06 -16591.402553  ...                         0.0 -13749.388331\n",
      "21 2021-10-07 -17832.196981  ...                         0.0 -15948.886951\n",
      "22 2021-10-08 -19072.991409  ...                         0.0 -15922.744720\n",
      "23 2021-10-09 -20313.785838  ...                         0.0 -18233.604290\n",
      "24 2021-10-10 -21554.580266  ...                         0.0 -22710.271566\n",
      "25 2021-10-11 -22795.374695  ...                         0.0 -30335.881766\n",
      "26 2021-10-12 -24036.169123  ...                         0.0 -25295.723240\n",
      "27 2021-10-13 -25276.963551  ...                         0.0 -22434.949330\n",
      "28 2021-10-14 -26517.757980  ...                         0.0 -24634.447950\n",
      "29 2021-10-15 -27758.552408  ...                         0.0 -24608.305719\n",
      "\n",
      "[30 rows x 16 columns]\n"
     ]
    }
   ],
   "source": [
    "#predict the cases\n",
    "forecast=model.predict(future)\n",
    "print(forecast)"
   ]
  },
  {
   "cell_type": "markdown",
   "metadata": {
    "id": "_RhYbgiI0Vu8"
   },
   "source": [
    "## summarize the forecast"
   ]
  },
  {
   "cell_type": "code",
   "execution_count": 114,
   "metadata": {
    "colab": {
     "base_uri": "https://localhost:8080/"
    },
    "executionInfo": {
     "elapsed": 402,
     "status": "ok",
     "timestamp": 1632032946784,
     "user": {
      "displayName": "Unnikrishnan C S",
      "photoUrl": "https://lh3.googleusercontent.com/a/default-user=s64",
      "userId": "18301413610349739582"
     },
     "user_tz": -330
    },
    "id": "PKd8Vb5urClZ",
    "outputId": "8863313c-df13-41c4-d069-acff99c26ba2"
   },
   "outputs": [
    {
     "name": "stdout",
     "output_type": "stream",
     "text": [
      "          ds          yhat    yhat_lower    yhat_upper\n",
      "0 2021-09-16  10107.796045 -58817.749554  81259.119334\n",
      "1 2021-09-17  10133.938276 -61598.487912  85811.788916\n",
      "2 2021-09-18   7823.078706 -72222.656607  82834.882999\n",
      "3 2021-09-19   3346.411430 -71394.146956  80394.963156\n",
      "4 2021-09-20  -4279.198770 -80010.348838  68109.914383\n"
     ]
    }
   ],
   "source": [
    "# summarize the forecast\n",
    "print(forecast[['ds', 'yhat', 'yhat_lower', 'yhat_upper']].head())"
   ]
  },
  {
   "cell_type": "markdown",
   "metadata": {
    "id": "CuUpWvcd0Y4e"
   },
   "source": [
    "## plot forecast (for India)"
   ]
  },
  {
   "cell_type": "code",
   "execution_count": 115,
   "metadata": {
    "colab": {
     "base_uri": "https://localhost:8080/",
     "height": 457
    },
    "executionInfo": {
     "elapsed": 722,
     "status": "ok",
     "timestamp": 1632032952625,
     "user": {
      "displayName": "Unnikrishnan C S",
      "photoUrl": "https://lh3.googleusercontent.com/a/default-user=s64",
      "userId": "18301413610349739582"
     },
     "user_tz": -330
    },
    "id": "23m9gbKCrP8w",
    "outputId": "03e002fb-f6cd-45ed-b295-08cd2d4a69ae"
   },
   "outputs": [
    {
     "data": {
      "image/png": "[encoded data removed]",
      "text/plain": [
       "<Figure size 720x432 with 1 Axes>"
      ]
     },
     "metadata": {},
     "output_type": "display_data"
    }
   ],
   "source": [
    "# plot forecast (for India)\n",
    "model.plot(forecast)\n",
    "plt.xlabel(\"Day ->\")\n",
    "plt.ylabel(\"New Cases ->\")\n",
    "plt.title(\"Forecast of new cases in India (next 30 days) from 16/09/21\")\n",
    "plt.show()"
   ]
  },
  {
   "cell_type": "markdown",
   "metadata": {
    "id": "7pvQs_WI49UF"
   },
   "source": [
    "# Plot of the monthly trend of covid 19 cases starting from 1st Oct 2020"
   ]
  },
  {
   "cell_type": "code",
   "execution_count": 116,
   "metadata": {
    "colab": {
     "base_uri": "https://localhost:8080/",
     "height": 305
    },
    "executionInfo": {
     "elapsed": 871,
     "status": "ok",
     "timestamp": 1632032958566,
     "user": {
      "displayName": "Unnikrishnan C S",
      "photoUrl": "https://lh3.googleusercontent.com/a/default-user=s64",
      "userId": "18301413610349739582"
     },
     "user_tz": -330
    },
    "id": "5434LO6F5A1S",
    "outputId": "c462f88a-1e74-499c-94f1-ac3c31ff13a6"
   },
   "outputs": [
    {
     "data": {
      "image/png": "[encoded data removed]",
      "text/plain": [
       "<Figure size 432x288 with 1 Axes>"
      ]
     },
     "metadata": {
      "needs_background": "light"
     },
     "output_type": "display_data"
    }
   ],
   "source": [
    "#convert to date\n",
    "data_trend[\"date\"]=to_datetime(data_trend[\"date\"])\n",
    "\n",
    "#plot\n",
    "plt.plot_date(data_trend[\"date\"],data_trend[\"total_cases\"],marker=\"o\",linestyle='solid')\n",
    "\n",
    "#label\n",
    "plt.xlabel(\"Month ->\")\n",
    "plt.ylabel(\"Total Cases ->\")\n",
    "plt.title(\"Monthly trend of covid 19 cases (From Oct'20)\")\n",
    "\n",
    "#format plot\n",
    "plt.gcf().autofmt_xdate()\n",
    "plt.grid(True)\n",
    "plt.ticklabel_format(style='plain',axis='y')\n",
    "date_format=mpl_dates.DateFormatter('%b,%d %Y')\n",
    "plt.gca().xaxis.set_major_formatter(date_format)\n",
    "\n",
    "plt.show()"
   ]
  }
 ],
 "metadata": {
  "colab": {
   "authorship_tag": "ABX9TyOkDY44gpbcX5QUo0dIrlR/",
   "collapsed_sections": [],
   "name": "unni_covid19task.ipynb",
   "provenance": [],
   "toc_visible": true
  },
  "kernelspec": {
   "display_name": "Python 3",
   "language": "python",
   "name": "python3"
  },
  "language_info": {
   "codemirror_mode": {
    "name": "ipython",
    "version": 3
   },
   "file_extension": ".py",
   "mimetype": "text/x-python",
   "name": "python",
   "nbconvert_exporter": "python",
   "pygments_lexer": "ipython3",
   "version": "3.7.3"
  }
 },
 "nbformat": 4,
 "nbformat_minor": 1
}
